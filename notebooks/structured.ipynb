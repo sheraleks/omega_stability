{
 "cells": [
  {
   "cell_type": "markdown",
   "source": [
    "От сотрудников Института Цитологии и Генетики СО РАН были получены данные о продолжительности жизни больных с боковым амиотрофическим склерозом(болезнь Стивена Хокинга), \n",
    "где Omega stability - некоторое значение, соответствующее мутации в белке, а Survival time - продолжительность жизни пациента при этой мутации."
   ],
   "metadata": {
    "collapsed": false
   }
  },
  {
   "cell_type": "code",
   "execution_count": 8,
   "metadata": {
    "collapsed": true,
    "pycharm": {
     "is_executing": false,
     "name": "#%%\n"
    }
   },
   "outputs": [
    {
     "data": {
      "text/plain": "<matplotlib.collections.PathCollection at 0x1f206f5db88>"
     },
     "metadata": {},
     "output_type": "execute_result",
     "execution_count": 8
    },
    {
     "data": {
      "text/plain": "<Figure size 432x288 with 1 Axes>",
      "image/png": "[encoded data removed]"
     },
     "metadata": {
      "needs_background": "light"
     },
     "output_type": "display_data"
    }
   ],
   "source": [
    "# Загрузим данные с помощью модуля Pandas в объект DataFrame\n",
    "import numpy as np\n",
    "import pandas as pd\n",
    "omega_stability = pd.read_csv('omega_stability.csv')\n",
    "\n",
    "# Проведем первичную обработку данных\n",
    "omega_stability = omega_stability.T\n",
    "omega_stability = omega_stability.drop(index = \"Name\")\n",
    "omega_stability.columns = [\"Omega stability\", \"Survival time\"]\n",
    "\n",
    "# Преобразуем значения ячеек в числовые\n",
    "omega_stability[\"Omega stability\"] = omega_stability[\"Omega stability\"].astype(float)\n",
    "omega_stability[\"Survival time\"] = omega_stability[\"Survival time\"].astype(float)\n",
    "\n",
    "x = omega_stability[\"Omega stability\"].values\n",
    "y = omega_stability[\"Survival time\"].values\n",
    "\n",
    "# Проведем сортировку данных \n",
    "x, y = zip(*sorted(zip(x, y)))\n",
    "x = np.asarray(x)\n",
    "y = np.asarray(y)\n",
    "\n",
    "# Проведем визуализацию\n",
    "import matplotlib.pyplot as plt\n",
    "fig, ax = plt.subplots()\n",
    "ax.set_xlabel('Omega stability')\n",
    "ax.set_ylabel('Survival time')\n",
    "ax.scatter(x, y)"
   ]
  },
  {
   "cell_type": "markdown",
   "source": [
    "Поставлена задача определить оптимальную регрессионную модель для прогнозирования времени дожития пациентов с БАС.\n",
    "\n",
    "Будут рассмотрены следующие функции:\n",
    "1. Линейная $$f(x) = a_{0} + a_{1}x$$\n",
    "2. Кубическая $$f(x) = a_{0} + a_{1}x + a_{2}x^{2} + a_{3}x^{3}$$\n",
    "3. Логистическая $$f(x) = \\frac{a_{0}}{1 + e^{-a_{1}(x-a_{2})}}$$\n",
    "\n",
    "Оценивать параметры линейно-параметризованных функций(линейная и кубическая) будем с помощью системы нормальных уравнений регрессии.\n",
    "Для оценивания параметров логистической функции, а также линейной и кубической функций с функцией потерь Хьюбера, будем применять алгоритм Левенберга-Макгварда.\n"
   ],
   "metadata": {
    "collapsed": false,
    "pycharm": {
     "name": "#%% md\n"
    }
   }
  }
 ],
 "metadata": {
  "kernelspec": {
   "display_name": "Python 3",
   "language": "python",
   "name": "python3"
  },
  "language_info": {
   "codemirror_mode": {
    "name": "ipython",
    "version": 2
   },
   "file_extension": ".py",
   "mimetype": "text/x-python",
   "name": "python",
   "nbconvert_exporter": "python",
   "pygments_lexer": "ipython2",
   "version": "2.7.6"
  },
  "pycharm": {
   "stem_cell": {
    "cell_type": "raw",
    "source": [],
    "metadata": {
     "collapsed": false
    }
   }
  }
 },
 "nbformat": 4,
 "nbformat_minor": 0
}