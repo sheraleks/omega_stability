{
 "cells": [
  {
   "cell_type": "markdown",
   "source": [
    "От сотрудников Института Цитологии и Генетики СО РАН были получены данные о продолжительности жизни больных с боковым амиотрофическим склерозом(болезнь Стивена Хокинга), \n",
    "где Omega stability - некоторое значение, соответствующее мутации в белке, а Survival time - продолжительность жизни пациента при этой мутации."
   ],
   "metadata": {
    "collapsed": false
   }
  },
  {
   "cell_type": "code",
   "execution_count": 3,
   "metadata": {
    "collapsed": true,
    "pycharm": {
     "is_executing": false,
     "name": "#%%\n"
    }
   },
   "outputs": [
    {
     "data": {
      "text/plain": "<matplotlib.collections.PathCollection at 0x2980a921fc8>"
     },
     "metadata": {},
     "output_type": "execute_result",
     "execution_count": 3
    },
    {
     "data": {
      "text/plain": "<Figure size 432x288 with 1 Axes>",
      "image/png": "[encoded data removed]"
     },
     "metadata": {
      "needs_background": "light"
     },
     "output_type": "display_data"
    }
   ],
   "source": [
    "# Загрузим данные с помощью модуля Pandas в объект DataFrame\n",
    "import numpy as np\n",
    "import pandas as pd\n",
    "omega_stability = pd.read_csv('omega_stability.csv')\n",
    "\n",
    "# Проведем первичную обработку данных\n",
    "omega_stability = omega_stability.T\n",
    "omega_stability = omega_stability.drop(index = \"Name\")\n",
    "omega_stability.columns = [\"Omega stability\", \"Survival time\"]\n",
    "\n",
    "# Преобразуем значения ячеек в числовые\n",
    "omega_stability[\"Omega stability\"] = omega_stability[\"Omega stability\"].astype(float)\n",
    "omega_stability[\"Survival time\"] = omega_stability[\"Survival time\"].astype(float)\n",
    "\n",
    "x = omega_stability[\"Omega stability\"].values\n",
    "y = omega_stability[\"Survival time\"].values\n",
    "\n",
    "# Проведем сортировку данных \n",
    "x, y = zip(*sorted(zip(x, y)))\n",
    "x = np.asarray(x)\n",
    "y = np.asarray(y)\n",
    "\n",
    "# Проведем визуализацию\n",
    "import matplotlib.pyplot as plt\n",
    "fig, ax = plt.subplots()\n",
    "ax.set_xlabel('Omega stability')\n",
    "ax.set_ylabel('Survival time')\n",
    "ax.scatter(x, y)"
   ]
  },
  {
   "cell_type": "markdown",
   "source": [
    "Поставлена задача определить оптимальную регрессионную модель для прогнозирования времени дожития пациентов с БАС.\n",
    "\n",
    "Будут рассмотрены следующие функции:\n",
    "1. Линейная $$f(x) = a_{0} + a_{1}x$$\n",
    "2. Кубическая $$f(x) = a_{0} + a_{1}x + a_{2}x^{2} + a_{3}x^{3}$$\n",
    "3. Логистическая $$f(x) = \\frac{a_{0}}{1 + e^{-a_{1}(x-a_{2})}}$$"
   ],
   "metadata": {
    "collapsed": false,
    "pycharm": {
     "name": "#%% md\n"
    }
   }
  },
  {
   "cell_type": "code",
   "execution_count": 4,
   "outputs": [
    {
     "data": {
      "text/plain": "array([10.90182755, 27.48041546])"
     },
     "metadata": {},
     "output_type": "execute_result",
     "execution_count": 4
    }
   ],
   "source": [
    "# Проведем оценку параметров обычным МНК для линейной функции\n",
    "np.polyfit(x, y, 1)[::-1]"
   ],
   "metadata": {
    "collapsed": false,
    "pycharm": {
     "name": "#%%\n",
     "is_executing": false
    }
   }
  },
  {
   "cell_type": "code",
   "execution_count": 5,
   "outputs": [
    {
     "data": {
      "text/plain": "array([  12.09694903,   49.76389461,    4.505014  , -179.41888585])"
     },
     "metadata": {},
     "output_type": "execute_result",
     "execution_count": 5
    }
   ],
   "source": [
    "# Проведем оценку параметров обычным МНК для кубической функции\n",
    "np.polyfit(x, y, 3)[::-1]"
   ],
   "metadata": {
    "collapsed": false,
    "pycharm": {
     "name": "#%%\n",
     "is_executing": false
    }
   }
  },
  {
   "cell_type": "code",
   "execution_count": 6,
   "outputs": [
    {
     "name": "stdout",
     "text": [
      "[2.47742715e+01 8.04350708e+00 5.72397837e-03]\n"
     ],
     "output_type": "stream"
    },
    {
     "data": {
      "text/plain": "<matplotlib.collections.PathCollection at 0x2980b6c5708>"
     },
     "metadata": {},
     "output_type": "execute_result",
     "execution_count": 6
    },
    {
     "data": {
      "text/plain": "<Figure size 432x288 with 1 Axes>",
      "image/png": "[encoded data removed]"
     },
     "metadata": {
      "needs_background": "light"
     },
     "output_type": "display_data"
    }
   ],
   "source": [
    "# Проведем оценку параметров нелинейным МНК для логистической функции\n",
    "def logistic(a, x):\n",
    "    return a[0]/(1 + np.exp(-a[1]*(x-a[2])))\n",
    "# Функция остатков\n",
    "def logistic_residual(a, x, y):\n",
    "    return logistic(a, x) - y\n",
    "from scipy.optimize import least_squares\n",
    "a = least_squares(logistic_residual, np.ones(3), loss='linear', args=(x, y)).x\n",
    "print(a)\n",
    "fig, ax = plt.subplots()\n",
    "x_plot = np.linspace(-0.5, 0.5, num=1000)\n",
    "y_plot = logistic(a, x_plot)\n",
    "ax.plot(x_plot, y_plot)\n",
    "ax.scatter(x, y)"
   ],
   "metadata": {
    "collapsed": false,
    "pycharm": {
     "name": "#%%\n",
     "is_executing": false
    }
   }
  },
  {
   "cell_type": "markdown",
   "source": [
    "Далее необходимо создать метрику для оценки качества выбранной модели. Будем применять алгоритм перекрестной проверки\n",
    "по К-группам. Тестовую выборку возьмем за 30% от изначальной. В результате получаем перспективную ошибку предсказания при тестировании модели на независимых данных."
   ],
   "metadata": {
    "collapsed": false,
    "pycharm": {
     "name": "#%% md\n"
    }
   }
  },
  {
   "cell_type": "code",
   "execution_count": 11,
   "outputs": [],
   "source": [
    "# Кросс-валидация для линейной модели\n",
    "def cv_linear(x, y, polyn_degree, k_percent):\n",
    "    from sklearn.model_selection import KFold\n",
    "    import numpy as np\n",
    "    k = int(k_percent*len(x))\n",
    "    kf = KFold(n_splits=k)\n",
    "    error = 0\n",
    "    for train_index, test_index in kf.split(x):\n",
    "        a = np.polyfit(x[train_index], y[train_index], polyn_degree)\n",
    "        y_pred = np.polyval(a, x[test_index])\n",
    "        y_exac = y[test_index]\n",
    "        error += np.sqrt(np.sum(np.square(y_pred - y_exac))/len(test_index))\n",
    "    error /= k\n",
    "    return error\n"
   ],
   "metadata": {
    "collapsed": false,
    "pycharm": {
     "name": "#%%\n",
     "is_executing": false
    }
   }
  },
  {
   "cell_type": "code",
   "execution_count": 19,
   "outputs": [
    {
     "data": {
      "text/plain": "4.160264480407327"
     },
     "metadata": {},
     "output_type": "execute_result",
     "execution_count": 19
    }
   ],
   "source": [
    "cv_linear(x, y, 1, 0.3)"
   ],
   "metadata": {
    "collapsed": false,
    "pycharm": {
     "name": "#%%\n",
     "is_executing": false
    }
   }
  },
  {
   "cell_type": "code",
   "execution_count": 20,
   "outputs": [
    {
     "data": {
      "text/plain": "15.762327542048132"
     },
     "metadata": {},
     "output_type": "execute_result",
     "execution_count": 20
    }
   ],
   "source": [
    "cv_linear(x, y, 3, 0.3)"
   ],
   "metadata": {
    "collapsed": false,
    "pycharm": {
     "name": "#%%\n",
     "is_executing": false
    }
   }
  },
  {
   "cell_type": "markdown",
   "source": [
    "Подведем промежуточный итог: \n",
    "1. Значение кросс-валидации для линейной модели является приемлемым.\n",
    "2. Кубическая модель требует дальнейшего исследования и применения устойчивых методов оценивания \n",
    "для снижения влияния \"неправильных измерений\""
   ],
   "metadata": {
    "collapsed": false
   }
  },
  {
   "cell_type": "code",
   "execution_count": 59,
   "outputs": [],
   "source": [
    "# Кросс-валидация для нелинейной модели\n",
    "def cv_nonlinear(x, y, model_func, k_percent, loss, x0):\n",
    "    from sklearn.model_selection import KFold\n",
    "    from scipy.optimize import least_squares\n",
    "    import numpy as np\n",
    "    residual_func = lambda a, x, y: model_func(a, x) - y\n",
    "    k = int(k_percent*len(x))\n",
    "    kf = KFold(n_splits=k)\n",
    "    error = 0\n",
    "    for train_index, test_index in kf.split(x):\n",
    "        #print(\"TRAIN:\", train_index, \"TEST:\", test_index)\n",
    "        a = least_squares(residual_func, x0, loss=loss, args=(x[train_index], y[train_index])).x\n",
    "        y_pred = model_func(a, x[test_index])\n",
    "        y_exac = y[test_index]\n",
    "        error_loc = np.sqrt(np.sum(np.square(y_pred - y_exac))/len(test_index))\n",
    "        if error_loc > 50:\n",
    "            import matplotlib.pyplot as plt\n",
    "            fig, ax = plt.subplots()\n",
    "            x_plot = np.linspace(-0.5, 0.5, num=1000)\n",
    "            y_plot = model_func(a, x_plot)\n",
    "            ax.plot(x_plot, y_plot)\n",
    "            ax.scatter(x, y)\n",
    "        #print(error_loc)\n",
    "        error += error_loc\n",
    "    error /= k\n",
    "    return error"
   ],
   "metadata": {
    "collapsed": false,
    "pycharm": {
     "name": "#%%\n",
     "is_executing": false
    }
   }
  },
  {
   "cell_type": "code",
   "source": [
    "# Кросс-валидация для логистиечкой модели с переменной асиимптотой\n",
    "cv_nonlinear(x, y, logistic, 0.3, 'huber', np.ones(3))"
   ],
   "metadata": {
    "collapsed": false,
    "pycharm": {
     "name": "#%%\n",
     "is_executing": false
    }
   },
   "execution_count": 62,
   "outputs": [
    {
     "data": {
      "text/plain": "17.792317029209865"
     },
     "metadata": {},
     "output_type": "execute_result",
     "execution_count": 62
    },
    {
     "data": {
      "text/plain": "<Figure size 432x288 with 1 Axes>",
      "image/png": "[encoded data removed]"
     },
     "metadata": {
      "needs_background": "light"
     },
     "output_type": "display_data"
    }
   ]
  },
  {
   "cell_type": "markdown",
   "source": [
    "Значение кросс-валидации для логистической модели с переменным верхним пределом неприемлемо. \n",
    "Требуется дальнейшее исследование."
   ],
   "metadata": {
    "collapsed": false
   }
  },
  {
   "cell_type": "code",
   "execution_count": 60,
   "outputs": [
    {
     "data": {
      "text/plain": "3.284184118851732"
     },
     "metadata": {},
     "output_type": "execute_result",
     "execution_count": 60
    }
   ],
   "source": [
    "# Логистическая функция с зафиксированной верхней асимптотой\n",
    "def logistic_new(a, x):\n",
    "    return 21.3/(1 + np.exp(-a[0]*(x-a[1])))\n",
    "cv_nonlinear(x, y, logistic_new, 0.3, 'huber', np.ones(2))"
   ],
   "metadata": {
    "collapsed": false,
    "pycharm": {
     "name": "#%%\n",
     "is_executing": false
    }
   }
  },
  {
   "cell_type": "code",
   "execution_count": 61,
   "outputs": [
    {
     "data": {
      "text/plain": "10.096677723649965"
     },
     "metadata": {},
     "output_type": "execute_result",
     "execution_count": 61
    },
    {
     "data": {
      "text/plain": "<Figure size 432x288 with 1 Axes>",
      "image/png": "[encoded data removed]"
     },
     "metadata": {
      "needs_background": "light"
     },
     "output_type": "display_data"
    }
   ],
   "source": [
    "def cube(a, x):\n",
    "    import numpy as np\n",
    "    p = np.poly1d(a[::-1])\n",
    "    return p(x)\n",
    "cv_nonlinear(x, y, cube, 0.3, 'huber', np.ones(4))"
   ],
   "metadata": {
    "collapsed": false,
    "pycharm": {
     "name": "#%%\n",
     "is_executing": false
    }
   }
  },
  {
   "cell_type": "markdown",
   "source": [
    "\n"
   ],
   "metadata": {
    "collapsed": false
   }
  }
 ],
 "metadata": {
  "kernelspec": {
   "display_name": "Python 3",
   "language": "python",
   "name": "python3"
  },
  "language_info": {
   "codemirror_mode": {
    "name": "ipython",
    "version": 2
   },
   "file_extension": ".py",
   "mimetype": "text/x-python",
   "name": "python",
   "nbconvert_exporter": "python",
   "pygments_lexer": "ipython2",
   "version": "2.7.6"
  },
  "pycharm": {
   "stem_cell": {
    "cell_type": "raw",
    "source": [],
    "metadata": {
     "collapsed": false
    }
   }
  }
 },
 "nbformat": 4,
 "nbformat_minor": 0
}