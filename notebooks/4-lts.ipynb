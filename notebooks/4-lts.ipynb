{
 "cells": [
  {
   "cell_type": "code",
   "execution_count": 1,
   "metadata": {},
   "outputs": [
    {
     "data": {
      "text/plain": [
       "<matplotlib.axes._subplots.AxesSubplot at 0x7feefb271048>"
      ]
     },
     "execution_count": 1,
     "metadata": {},
     "output_type": "execute_result"
    },
    {
     "data": {
      "image/png": "[encoded data removed]",
      "text/plain": [
       "<Figure size 432x288 with 1 Axes>"
      ]
     },
     "metadata": {
      "needs_background": "light"
     },
     "output_type": "display_data"
    }
   ],
   "source": [
    "# Загрузим данные с помощью модуля Pandas в объект DataFrame\n",
    "import pandas as pd\n",
    "omega_stability = pd.read_csv(\"../input/omega-stability-data/omega_stability.csv\")\n",
    "\n",
    "# Проведем первичную обработку данных\n",
    "omega_stability = omega_stability.T\n",
    "omega_stability = omega_stability.drop(index = \"Name\")\n",
    "omega_stability.columns = [\"Omega stability\", \"Survival time\"]\n",
    "\n",
    "# Преобразуем значения ячеек в числовые\n",
    "omega_stability[\"Omega stability\"] = omega_stability[\"Omega stability\"].astype(float)\n",
    "omega_stability[\"Survival time\"] = omega_stability[\"Survival time\"].astype(float)\n",
    "\n",
    "x = omega_stability[\"Omega stability\"].values\n",
    "y = omega_stability[\"Survival time\"].values\n",
    "\n",
    "# Проведем визуализацию\n",
    "omega_stability.plot(kind=\"scatter\", x=\"Omega stability\", y=\"Survival time\")"
   ]
  },
  {
   "cell_type": "code",
   "execution_count": 2,
   "metadata": {
    "_cell_guid": "79c7e3d0-c299-4dcb-8224-4455121ee9b0",
    "_uuid": "d629ff2d2480ee46fbb7e2d37f6b5fab8052498a"
   },
   "outputs": [],
   "source": [
    "# Построение LTS-оценки\n",
    "def c_step(x, y, x0, model_func, tolerance, max_iter, h0):\n",
    "    import math\n",
    "    import random\n",
    "    import numpy as np\n",
    "    from scipy.optimize import least_squares\n",
    "    from scipy.optimize import curve_fit \n",
    "    residual_func = lambda a, x, y: model_func(x, a) - y\n",
    "    i = 1\n",
    "    H1 = random.sample(range(len(x)), h0)\n",
    "    Q1 = 9999999\n",
    "    prev = 0\n",
    "    error = abs(Q1-prev)\n",
    "    theta = []\n",
    "    # Получение x0\n",
    "    x0 = least_squares(residual_func, x0, loss=\"linear\", args=(x, y)).x\n",
    "    while error > tolerance and i < max_iter:\n",
    "        theta = least_squares(residual_func, x0, loss=\"linear\", args=(x[H1], y[H1])).x\n",
    "        est = model_func(x, theta)\n",
    "        e = y - est\n",
    "        prev = Q1\n",
    "        Q1 = sum(e**2)\n",
    "        error = abs(Q1 - prev)\n",
    "        pi = np.argsort(np.abs(e))\n",
    "        H1 = pi[:h0]\n",
    "        i += 1\n",
    "        #print(error)\n",
    "    return theta"
   ]
  },
  {
   "cell_type": "code",
   "execution_count": 3,
   "metadata": {},
   "outputs": [],
   "source": [
    "def loo_cross_validation_lts(x, y, model_func, h0):\n",
    "    import math\n",
    "    import numpy as np\n",
    "    from sklearn.metrics import mean_squared_error\n",
    "    from sklearn.model_selection import LeaveOneOut\n",
    "    loo = LeaveOneOut()\n",
    "    predicts = []    \n",
    "    for train, test in loo.split(x):\n",
    "        x_train = x[train]\n",
    "        y_train = y[train]\n",
    "        x_test = x[test]\n",
    "        y_test = y[test]\n",
    "        a = c_step(x, y, [0, 0, 0, 0], model_func, 1e-7, 500, h0)\n",
    "        predict = model_func(x_test, a)\n",
    "        predicts.append(predict)\n",
    "    rmse = math.sqrt(mean_squared_error(y, predicts))\n",
    "    return rmse, a"
   ]
  },
  {
   "cell_type": "code",
   "execution_count": 4,
   "metadata": {},
   "outputs": [],
   "source": [
    "def cube_func(x, a):\n",
    "    return a[0] + a[1] * x + a[2] * x**2 + a[3] * x**3\n",
    "def cube_func_ols(x, a0, a1, a2, a3):\n",
    "    return a0 + a1 * x + a2 * x**2 + a3 * x**3"
   ]
  },
  {
   "cell_type": "code",
   "execution_count": 5,
   "metadata": {},
   "outputs": [
    {
     "name": "stdout",
     "output_type": "stream",
     "text": [
      "[  13.28110565   59.09069477  -15.25143816 -242.83236977]\n",
      "h0 = 30\n"
     ]
    },
    {
     "data": {
      "text/plain": [
       "[<matplotlib.lines.Line2D at 0x7feef9f36fd0>]"
      ]
     },
     "execution_count": 5,
     "metadata": {},
     "output_type": "execute_result"
    },
    {
     "data": {
      "image/png": "[encoded data removed]",
      "text/plain": [
       "<Figure size 432x288 with 1 Axes>"
      ]
     },
     "metadata": {
      "needs_background": "light"
     },
     "output_type": "display_data"
    }
   ],
   "source": [
    "a = c_step(x, y, [0, 0, 0, 0], cube_func, 1e-7, 100, 30)\n",
    "print(a)\n",
    "print(\"h0 =\",30)\n",
    "\n",
    "import numpy as np\n",
    "import matplotlib.pyplot as plt\n",
    "fig, ax = plt.subplots()\n",
    "ax.scatter(x, y)\n",
    "x_plot = np.linspace(-0.5, 0.5, num=1000)\n",
    "y_plot = cube_func(x_plot, a)\n",
    "ax.plot(x_plot, y_plot)"
   ]
  },
  {
   "cell_type": "code",
   "execution_count": 6,
   "metadata": {},
   "outputs": [
    {
     "name": "stdout",
     "output_type": "stream",
     "text": [
      "i 22\n",
      "3.8460391994490237\n",
      "i 23\n",
      "4.298060175766834\n",
      "i 24\n",
      "11.880871650573704\n",
      "i 25\n",
      "7.239075278482052\n",
      "i 26\n",
      "3.5289801439854447\n",
      "i 27\n",
      "3.572722546511443\n",
      "i 28\n",
      "7.580837230376349\n",
      "i 29\n",
      "3.6065394789944927\n",
      "i 30\n",
      "3.5489852049722446\n",
      "i 31\n",
      "3.5959921932251917\n",
      "i 32\n",
      "3.5937116277433594\n",
      "i 33\n",
      "3.5543838821605567\n",
      "i 34\n",
      "3.6641689855180384\n",
      "i 35\n",
      "3.626500401017847\n",
      "i 36\n",
      "3.626500148501856\n",
      "i 37\n",
      "3.547293330888362\n",
      "i 38\n",
      "3.4724148954001173\n",
      "i 39\n",
      "3.444861579883074\n",
      "min cv  3.444861579883074\n",
      "h0 39\n",
      "[  12.09694901   49.76389472    4.50501477 -179.41888608]\n"
     ]
    }
   ],
   "source": [
    "d = {}\n",
    "cv_m, a_m = 300, []\n",
    "h0 = 0\n",
    "for i in range(22, 40):\n",
    "    cv, a = loo_cross_validation_lts(x, y, cube_func, i)\n",
    "    d[i] = a\n",
    "    if cv < cv_m:\n",
    "        cv_m = cv\n",
    "        a_m = a\n",
    "        h0 = i\n",
    "    print(\"i \" + str(i))\n",
    "    print(cv)\n",
    "print(\"min cv \", cv_m)\n",
    "print(\"h0\", h0)\n",
    "print(a_m)"
   ]
  },
  {
   "cell_type": "code",
   "execution_count": 7,
   "metadata": {},
   "outputs": [
    {
     "data": {
      "text/plain": [
       "<matplotlib.legend.Legend at 0x7feef74647b8>"
      ]
     },
     "execution_count": 7,
     "metadata": {},
     "output_type": "execute_result"
    },
    {
     "data": {
      "image/png": "[encoded data removed]",
      "text/plain": [
       "<Figure size 432x288 with 1 Axes>"
      ]
     },
     "metadata": {
      "needs_background": "light"
     },
     "output_type": "display_data"
    }
   ],
   "source": [
    "fig, ax = plt.subplots()\n",
    "ax.scatter(x, y)\n",
    "x_plot = np.linspace(-0.5, 0.5, num=1000)\n",
    "y_plot = a_m[0] + a_m[1]*x_plot + a_m[2]*x_plot**2 + a_m[3]*x_plot**3\n",
    "ax.plot(x_plot, y_plot, c=\"r\")\n",
    "ax.legend((h0, \"data\"))"
   ]
  },
  {
   "cell_type": "code",
   "execution_count": 8,
   "metadata": {},
   "outputs": [
    {
     "name": "stdout",
     "output_type": "stream",
     "text": [
      "[  12.09694892   49.76389417    4.50501634 -179.41887845]\n"
     ]
    },
    {
     "data": {
      "text/plain": [
       "<matplotlib.legend.Legend at 0x7feef71b8cc0>"
      ]
     },
     "execution_count": 8,
     "metadata": {},
     "output_type": "execute_result"
    },
    {
     "data": {
      "image/png": "[encoded data removed]",
      "text/plain": [
       "<Figure size 432x288 with 1 Axes>"
      ]
     },
     "metadata": {
      "needs_background": "light"
     },
     "output_type": "display_data"
    }
   ],
   "source": [
    "fig, ax = plt.subplots()\n",
    "ax.scatter(x, y)\n",
    "x_plot = np.linspace(-0.5, 0.5, num=1000)\n",
    "# ols\n",
    "from scipy.optimize import curve_fit\n",
    "a, _ = curve_fit(cube_func_ols, x, y)\n",
    "print(a)\n",
    "y_plot = cube_func(x_plot, a)\n",
    "ax.plot(x_plot, y_plot, c=\"r\")\n",
    "#ax.legend((\"ols\", \"data\"))\n",
    "\n",
    "#37\n",
    "h0 = 37\n",
    "y_plot = cube_func(x_plot, d[h0])\n",
    "ax.plot(x_plot, y_plot, c=\"g\")\n",
    "ax.legend((\"ols\", h0, \"data\"))"
   ]
  },
  {
   "cell_type": "code",
   "execution_count": 9,
   "metadata": {},
   "outputs": [],
   "source": [
    "# M-estimators"
   ]
  },
  {
   "cell_type": "code",
   "execution_count": 10,
   "metadata": {
    "scrolled": true
   },
   "outputs": [
    {
     "ename": "NameError",
     "evalue": "name 'least_squares' is not defined",
     "output_type": "error",
     "traceback": [
      "\u001b[0;31m---------------------------------------------------------------------------\u001b[0m",
      "\u001b[0;31mNameError\u001b[0m                                 Traceback (most recent call last)",
      "\u001b[0;32m<ipython-input-10-0e6787552c64>\u001b[0m in \u001b[0;36m<module>\u001b[0;34m\u001b[0m\n\u001b[1;32m      1\u001b[0m \u001b[0mresidual_func\u001b[0m \u001b[0;34m=\u001b[0m \u001b[0;32mlambda\u001b[0m \u001b[0ma\u001b[0m\u001b[0;34m,\u001b[0m \u001b[0mx\u001b[0m\u001b[0;34m,\u001b[0m \u001b[0my\u001b[0m\u001b[0;34m:\u001b[0m \u001b[0mcube_func\u001b[0m\u001b[0;34m(\u001b[0m\u001b[0mx\u001b[0m\u001b[0;34m,\u001b[0m \u001b[0ma\u001b[0m\u001b[0;34m)\u001b[0m \u001b[0;34m-\u001b[0m \u001b[0my\u001b[0m\u001b[0;34m\u001b[0m\u001b[0m\n\u001b[0;32m----> 2\u001b[0;31m \u001b[0mtheta\u001b[0m \u001b[0;34m=\u001b[0m \u001b[0mleast_squares\u001b[0m\u001b[0;34m(\u001b[0m\u001b[0mresidual_func\u001b[0m\u001b[0;34m,\u001b[0m \u001b[0;34m[\u001b[0m\u001b[0;36m13.2172348\u001b[0m\u001b[0;34m,\u001b[0m \u001b[0;36m59.92121269\u001b[0m\u001b[0;34m,\u001b[0m \u001b[0;34m-\u001b[0m\u001b[0;36m14.74252034\u001b[0m\u001b[0;34m,\u001b[0m \u001b[0;34m-\u001b[0m\u001b[0;36m249.17161382\u001b[0m\u001b[0;34m]\u001b[0m\u001b[0;34m,\u001b[0m \u001b[0mloss\u001b[0m\u001b[0;34m=\u001b[0m\u001b[0;34m\"huber\"\u001b[0m\u001b[0;34m,\u001b[0m \u001b[0margs\u001b[0m\u001b[0;34m=\u001b[0m\u001b[0;34m(\u001b[0m\u001b[0mx\u001b[0m\u001b[0;34m,\u001b[0m \u001b[0my\u001b[0m\u001b[0;34m)\u001b[0m\u001b[0;34m)\u001b[0m\u001b[0;34m\u001b[0m\u001b[0m\n\u001b[0m\u001b[1;32m      3\u001b[0m \u001b[0ma_m\u001b[0m \u001b[0;34m=\u001b[0m \u001b[0mtheta\u001b[0m\u001b[0;34m.\u001b[0m\u001b[0mx\u001b[0m\u001b[0;34m\u001b[0m\u001b[0m\n\u001b[1;32m      4\u001b[0m \u001b[0mfig\u001b[0m\u001b[0;34m,\u001b[0m \u001b[0max\u001b[0m \u001b[0;34m=\u001b[0m \u001b[0mplt\u001b[0m\u001b[0;34m.\u001b[0m\u001b[0msubplots\u001b[0m\u001b[0;34m(\u001b[0m\u001b[0;34m)\u001b[0m\u001b[0;34m\u001b[0m\u001b[0m\n\u001b[1;32m      5\u001b[0m \u001b[0max\u001b[0m\u001b[0;34m.\u001b[0m\u001b[0mscatter\u001b[0m\u001b[0;34m(\u001b[0m\u001b[0mx\u001b[0m\u001b[0;34m,\u001b[0m \u001b[0my\u001b[0m\u001b[0;34m)\u001b[0m\u001b[0;34m\u001b[0m\u001b[0m\n",
      "\u001b[0;31mNameError\u001b[0m: name 'least_squares' is not defined"
     ]
    }
   ],
   "source": [
    "residual_func = lambda a, x, y: cube_func(x, a) - y\n",
    "theta = least_squares(residual_func, [13.2172348, 59.92121269, -14.74252034, -249.17161382], loss=\"huber\", args=(x, y))\n",
    "a_m = theta.x\n",
    "fig, ax = plt.subplots()\n",
    "ax.scatter(x, y)\n",
    "x_plot = np.linspace(-0.5, 0.5, num=1000)\n",
    "y_plot = a_m[0] + a_m[1]*x_plot + a_m[2]*x_plot**2 + a_m[3]*x_plot**3\n",
    "ax.plot(x_plot, y_plot)"
   ]
  },
  {
   "cell_type": "code",
   "execution_count": 11,
   "metadata": {},
   "outputs": [],
   "source": [
    "def loo_cross_validation_robust(x, y, model_func):\n",
    "    import math\n",
    "    from scipy.optimize import curve_fit \n",
    "    import numpy as np\n",
    "    from sklearn.metrics import mean_squared_error\n",
    "    from sklearn.model_selection import LeaveOneOut\n",
    "    residual_func = lambda a, x, y: model_func(x, a) - y\n",
    "    loo = LeaveOneOut()\n",
    "    predicts = []    \n",
    "    for train, test in loo.split(x):\n",
    "        x_train = x[train]\n",
    "        y_train = y[train]\n",
    "        x_test = x[test]\n",
    "        y_test = y[test]\n",
    "        robust = least_squares(residual_func, [13.2172348, 59.92121269, -14.74252034, -249.17161382], f_scale = 0.1, loss='arctan', args=(x_train, y_train))\n",
    "        param = robust.x\n",
    "        predict = model_func(x_test, param)\n",
    "        predicts.append(predict)\n",
    "    rmse = math.sqrt(mean_squared_error(y, predicts))\n",
    "    return rmse"
   ]
  },
  {
   "cell_type": "code",
   "execution_count": 12,
   "metadata": {},
   "outputs": [
    {
     "ename": "NameError",
     "evalue": "name 'least_squares' is not defined",
     "output_type": "error",
     "traceback": [
      "\u001b[0;31m---------------------------------------------------------------------------\u001b[0m",
      "\u001b[0;31mNameError\u001b[0m                                 Traceback (most recent call last)",
      "\u001b[0;32m<ipython-input-12-db59b97a2b4c>\u001b[0m in \u001b[0;36m<module>\u001b[0;34m\u001b[0m\n\u001b[0;32m----> 1\u001b[0;31m \u001b[0mprint\u001b[0m\u001b[0;34m(\u001b[0m\u001b[0mloo_cross_validation_robust\u001b[0m\u001b[0;34m(\u001b[0m\u001b[0mx\u001b[0m\u001b[0;34m,\u001b[0m \u001b[0my\u001b[0m\u001b[0;34m,\u001b[0m \u001b[0mcube_func\u001b[0m\u001b[0;34m)\u001b[0m\u001b[0;34m)\u001b[0m\u001b[0;34m\u001b[0m\u001b[0m\n\u001b[0m",
      "\u001b[0;32m<ipython-input-11-7e8b36974f83>\u001b[0m in \u001b[0;36mloo_cross_validation_robust\u001b[0;34m(x, y, model_func)\u001b[0m\n\u001b[1;32m     13\u001b[0m         \u001b[0mx_test\u001b[0m \u001b[0;34m=\u001b[0m \u001b[0mx\u001b[0m\u001b[0;34m[\u001b[0m\u001b[0mtest\u001b[0m\u001b[0;34m]\u001b[0m\u001b[0;34m\u001b[0m\u001b[0m\n\u001b[1;32m     14\u001b[0m         \u001b[0my_test\u001b[0m \u001b[0;34m=\u001b[0m \u001b[0my\u001b[0m\u001b[0;34m[\u001b[0m\u001b[0mtest\u001b[0m\u001b[0;34m]\u001b[0m\u001b[0;34m\u001b[0m\u001b[0m\n\u001b[0;32m---> 15\u001b[0;31m         \u001b[0mrobust\u001b[0m \u001b[0;34m=\u001b[0m \u001b[0mleast_squares\u001b[0m\u001b[0;34m(\u001b[0m\u001b[0mresidual_func\u001b[0m\u001b[0;34m,\u001b[0m \u001b[0;34m[\u001b[0m\u001b[0;36m13.2172348\u001b[0m\u001b[0;34m,\u001b[0m \u001b[0;36m59.92121269\u001b[0m\u001b[0;34m,\u001b[0m \u001b[0;34m-\u001b[0m\u001b[0;36m14.74252034\u001b[0m\u001b[0;34m,\u001b[0m \u001b[0;34m-\u001b[0m\u001b[0;36m249.17161382\u001b[0m\u001b[0;34m]\u001b[0m\u001b[0;34m,\u001b[0m \u001b[0mf_scale\u001b[0m \u001b[0;34m=\u001b[0m \u001b[0;36m0.1\u001b[0m\u001b[0;34m,\u001b[0m \u001b[0mloss\u001b[0m\u001b[0;34m=\u001b[0m\u001b[0;34m'arctan'\u001b[0m\u001b[0;34m,\u001b[0m \u001b[0margs\u001b[0m\u001b[0;34m=\u001b[0m\u001b[0;34m(\u001b[0m\u001b[0mx_train\u001b[0m\u001b[0;34m,\u001b[0m \u001b[0my_train\u001b[0m\u001b[0;34m)\u001b[0m\u001b[0;34m)\u001b[0m\u001b[0;34m\u001b[0m\u001b[0m\n\u001b[0m\u001b[1;32m     16\u001b[0m         \u001b[0mparam\u001b[0m \u001b[0;34m=\u001b[0m \u001b[0mrobust\u001b[0m\u001b[0;34m.\u001b[0m\u001b[0mx\u001b[0m\u001b[0;34m\u001b[0m\u001b[0m\n\u001b[1;32m     17\u001b[0m         \u001b[0mpredict\u001b[0m \u001b[0;34m=\u001b[0m \u001b[0mmodel_func\u001b[0m\u001b[0;34m(\u001b[0m\u001b[0mx_test\u001b[0m\u001b[0;34m,\u001b[0m \u001b[0mparam\u001b[0m\u001b[0;34m)\u001b[0m\u001b[0;34m\u001b[0m\u001b[0m\n",
      "\u001b[0;31mNameError\u001b[0m: name 'least_squares' is not defined"
     ]
    }
   ],
   "source": [
    "print(loo_cross_validation_robust(x, y, cube_func))"
   ]
  },
  {
   "cell_type": "code",
   "execution_count": null,
   "metadata": {},
   "outputs": [],
   "source": []
  }
 ],
 "metadata": {
  "kernelspec": {
   "display_name": "Python 3",
   "language": "python",
   "name": "python3"
  },
  "language_info": {
   "codemirror_mode": {
    "name": "ipython",
    "version": 3
   },
   "file_extension": ".py",
   "mimetype": "text/x-python",
   "name": "python",
   "nbconvert_exporter": "python",
   "pygments_lexer": "ipython3",
   "version": "3.6.6"
  }
 },
 "nbformat": 4,
 "nbformat_minor": 1
}
