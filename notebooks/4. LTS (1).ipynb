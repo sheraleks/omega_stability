{
 "cells": [
  {
   "metadata": {
    "trusted": true,
    "pycharm": {
     "is_executing": false
    }
   },
   "cell_type": "code",
   "source": [
    "# Загрузим данные с помощью модуля Pandas в объект DataFrame\n",
    "import pandas as pd\n",
    "omega_stability = pd.read_csv('omega_stability.csv')\n",
    "\n",
    "# Проведем первичную обработку данных\n",
    "omega_stability = omega_stability.T\n",
    "omega_stability = omega_stability.drop(index = \"Name\")\n",
    "omega_stability.columns = [\"Omega stability\", \"Survival time\"]\n",
    "\n",
    "# Преобразуем значения ячеек в числовые\n",
    "omega_stability[\"Omega stability\"] = omega_stability[\"Omega stability\"].astype(float)\n",
    "omega_stability[\"Survival time\"] = omega_stability[\"Survival time\"].astype(float)\n",
    "\n",
    "x = omega_stability[\"Omega stability\"].values\n",
    "y = omega_stability[\"Survival time\"].values\n",
    "\n",
    "# Проведем визуализацию\n",
    "omega_stability.plot(kind=\"scatter\", x=\"Omega stability\", y=\"Survival time\")"
   ],
   "execution_count": 15,
   "outputs": [
    {
     "data": {
      "text/plain": "<matplotlib.axes._subplots.AxesSubplot at 0x1a998758f08>"
     },
     "metadata": {},
     "output_type": "execute_result",
     "execution_count": 15
    },
    {
     "data": {
      "text/plain": "<Figure size 432x288 with 1 Axes>",
      "image/png": "[encoded data removed]"
     },
     "metadata": {
      "needs_background": "light"
     },
     "output_type": "display_data"
    }
   ]
  },
  {
   "metadata": {
    "_cell_guid": "79c7e3d0-c299-4dcb-8224-4455121ee9b0",
    "_uuid": "d629ff2d2480ee46fbb7e2d37f6b5fab8052498a",
    "trusted": true,
    "pycharm": {
     "is_executing": false
    }
   },
   "cell_type": "code",
   "source": [
    "# Построение LTS-оценки\n",
    "def c_step(x, y, x0, model_func, tolerance, max_iter, h0):\n",
    "    import math\n",
    "    import random\n",
    "    import numpy as np\n",
    "    from scipy.optimize import least_squares\n",
    "    from scipy.optimize import curve_fit \n",
    "    residual_func = lambda a, x, y: model_func(x, a) - y\n",
    "    i = 1\n",
    "    H1 = random.sample(range(len(x)), h0)\n",
    "    Q1 = 9999999\n",
    "    prev = 0\n",
    "    error = abs(Q1-prev)\n",
    "    theta = []\n",
    "    # Получение x0\n",
    "    x0 = least_squares(residual_func, x0, loss=\"linear\", args=(x, y)).x\n",
    "    while error > tolerance and i < max_iter:\n",
    "        theta = least_squares(residual_func, x0, loss=\"linear\", args=(x[H1], y[H1])).x\n",
    "        est = model_func(x, theta)\n",
    "        e = y - est\n",
    "        prev = Q1\n",
    "        Q1 = sum(e**2)\n",
    "        error = abs(Q1 - prev)\n",
    "        pi = np.argsort(np.abs(e))\n",
    "        H1 = pi[:h0]\n",
    "        i += 1\n",
    "        #print(error)\n",
    "    return theta"
   ],
   "execution_count": 16,
   "outputs": []
  },
  {
   "metadata": {
    "trusted": true,
    "pycharm": {
     "is_executing": false
    }
   },
   "cell_type": "code",
   "source": [
    "def loo_cross_validation_lts(x, y, model_func, h0):\n",
    "    import math\n",
    "    import numpy as np\n",
    "    from sklearn.metrics import mean_squared_error\n",
    "    from sklearn.model_selection import LeaveOneOut\n",
    "    loo = LeaveOneOut()\n",
    "    predicts = []    \n",
    "    for train, test in loo.split(x):\n",
    "        x_train = x[train]\n",
    "        y_train = y[train]\n",
    "        x_test = x[test]\n",
    "        y_test = y[test]\n",
    "        a = c_step(x, y, [0, 0, 0, 0], model_func, 1e-7, 500, h0)\n",
    "        predict = model_func(x_test, a)\n",
    "        predicts.append(predict)\n",
    "    rmse = math.sqrt(mean_squared_error(y, predicts))\n",
    "    return rmse, a"
   ],
   "execution_count": 3,
   "outputs": []
  },
  {
   "metadata": {
    "trusted": true,
    "pycharm": {
     "is_executing": false
    }
   },
   "cell_type": "code",
   "source": [
    "def cube_func(x, a):\n",
    "    return a[0] + a[1] * x + a[2] * x**2 + a[3] * x**3\n",
    "def cube_func_ols(x, a0, a1, a2, a3):\n",
    "    return a0 + a1 * x + a2 * x**2 + a3 * x**3"
   ],
   "execution_count": 17,
   "outputs": []
  },
  {
   "metadata": {
    "trusted": true,
    "pycharm": {
     "is_executing": false
    }
   },
   "cell_type": "code",
   "source": [
    "d = {}\n",
    "cv_m, a_m = 300, []\n",
    "h0 = 0\n",
    "for i in range(22, 40):\n",
    "    cv, a = loo_cross_validation_lts(x, y, cube_func, i)\n",
    "    d[i] = a\n",
    "    if cv < cv_m:\n",
    "        cv_m = cv\n",
    "        a_m = a\n",
    "        h0 = i\n",
    "    print(\"i \" + str(i))\n",
    "    print(cv)\n",
    "print(\"min cv \", cv_m)\n",
    "print(\"h0\", h0)\n",
    "print(a_m)"
   ],
   "execution_count": 5,
   "outputs": [
    {
     "name": "stdout",
     "text": [
      "i 22\n6.252509140604601\n",
      "i 23\n3.621368633537184\n",
      "i 24\n3.6175333002487244\n",
      "i 25\n3.667434172131083\n",
      "i 26\n7.779852895198172\n",
      "i 27\n4.510458377412608\n",
      "i 28\n3.5879870186613516\n",
      "i 29\n3.528767101604445\n",
      "i 30\n9.782217939496595\n",
      "i 31\n3.6473786149198792\n",
      "i 32\n3.719276575839222\n",
      "i 33\n3.6686615290072746\n",
      "i 34\n9.940597284804017\n",
      "i 35\n3.6268423144297284\n",
      "i 36\n3.6334863734613347\n",
      "i 37\n3.5158045126742272\n",
      "i 38\n3.4829005116691896\n",
      "i 39\n3.444861579883074\nmin cv  3.444861579883074\nh0 39\n[  12.09694901   49.76389472    4.50501477 -179.41888608]\n"
     ],
     "output_type": "stream"
    }
   ]
  },
  {
   "metadata": {
    "trusted": true,
    "pycharm": {
     "is_executing": false
    }
   },
   "cell_type": "code",
   "source": [
    "import matplotlib.pyplot as plt\n",
    "import numpy as np\n",
    "fig, ax = plt.subplots()\n",
    "ax.scatter(x, y)\n",
    "x_plot = np.linspace(-0.5, 0.5, num=1000)\n",
    "# ols\n",
    "from scipy.optimize import curve_fit\n",
    "a, _ = curve_fit(cube_func_ols, x, y)\n",
    "print(a)\n",
    "y_plot = cube_func(x_plot, a)\n",
    "ax.plot(x_plot, y_plot, c=\"r\")\n",
    "#ax.legend((\"ols\", \"data\"))\n",
    "\n",
    "#37\n",
    "#h0 = 37\n",
    "y_plot = cube_func(x_plot, d[h0])\n",
    "ax.plot(x_plot, y_plot, c=\"g\")\n",
    "ax.legend((\"ols\", h0, \"data\"))"
   ],
   "execution_count": 6,
   "outputs": [
    {
     "name": "stdout",
     "text": [
      "[  12.09694892   49.76389417    4.50501634 -179.41887845]\n"
     ],
     "output_type": "stream"
    },
    {
     "data": {
      "text/plain": "<matplotlib.legend.Legend at 0x1a998259c48>"
     },
     "metadata": {},
     "output_type": "execute_result",
     "execution_count": 6
    },
    {
     "data": {
      "text/plain": "<Figure size 432x288 with 1 Axes>",
      "image/png": "[encoded data removed]"
     },
     "metadata": {
      "needs_background": "light"
     },
     "output_type": "display_data"
    }
   ]
  },
  {
   "metadata": {
    "trusted": true,
    "pycharm": {
     "is_executing": false
    }
   },
   "cell_type": "code",
   "source": [
    "# M-estimators\n"
   ],
   "execution_count": 7,
   "outputs": []
  },
  {
   "metadata": {
    "scrolled": true,
    "trusted": true,
    "pycharm": {
     "is_executing": false
    }
   },
   "cell_type": "code",
   "source": [
    "from scipy.optimize import least_squares\n",
    "residual_func = lambda a, x, y: cube_func(x, a) - y\n",
    "theta = least_squares(residual_func, [13.2172348, 59.92121269, -14.74252034, -249.17161382], loss=\"huber\", args=(x, y))\n",
    "a_m = theta.x\n",
    "fig, ax = plt.subplots()\n",
    "ax.scatter(x, y)\n",
    "x_plot = np.linspace(-0.5, 0.5, num=1000)\n",
    "y_plot = a_m[0] + a_m[1]*x_plot + a_m[2]*x_plot**2 + a_m[3]*x_plot**3\n",
    "ax.plot(x_plot, y_plot)"
   ],
   "execution_count": 8,
   "outputs": [
    {
     "data": {
      "text/plain": "[<matplotlib.lines.Line2D at 0x1a998711c48>]"
     },
     "metadata": {},
     "output_type": "execute_result",
     "execution_count": 8
    },
    {
     "data": {
      "text/plain": "<Figure size 432x288 with 1 Axes>",
      "image/png": "[encoded data removed]"
     },
     "metadata": {
      "needs_background": "light"
     },
     "output_type": "display_data"
    }
   ]
  },
  {
   "metadata": {
    "trusted": true,
    "pycharm": {
     "is_executing": false
    }
   },
   "cell_type": "code",
   "source": [
    "def loo_cross_validation_robust(x, y, model_func):\n",
    "    import math\n",
    "    from scipy.optimize import curve_fit \n",
    "    import numpy as np\n",
    "    from sklearn.metrics import mean_squared_error\n",
    "    from sklearn.model_selection import LeaveOneOut\n",
    "    residual_func = lambda a, x, y: model_func(x, a) - y\n",
    "    loo = LeaveOneOut()\n",
    "    predicts = []    \n",
    "    for train, test in loo.split(x):\n",
    "        x_train = x[train]\n",
    "        y_train = y[train]\n",
    "        x_test = x[test]\n",
    "        y_test = y[test]\n",
    "        robust = least_squares(residual_func, [13.2172348, 59.92121269, -14.74252034, -249.17161382], f_scale = 0.1, loss='arctan', args=(x_train, y_train))\n",
    "        param = robust.x\n",
    "        predict = model_func(x_test, param)\n",
    "        predicts.append(predict)\n",
    "    rmse = math.sqrt(mean_squared_error(y, predicts))\n",
    "    return rmse"
   ],
   "execution_count": 9,
   "outputs": []
  },
  {
   "metadata": {
    "trusted": true,
    "pycharm": {
     "is_executing": false
    }
   },
   "cell_type": "code",
   "source": [
    "print(loo_cross_validation_robust(x, y, cube_func))"
   ],
   "execution_count": 10,
   "outputs": [
    {
     "name": "stdout",
     "text": [
      "5.270981519267634\n"
     ],
     "output_type": "stream"
    }
   ]
  },
  {
   "metadata": {
    "trusted": true,
    "pycharm": {
     "is_executing": false
    }
   },
   "cell_type": "code",
   "source": [
    "#----------------------------------------------------------------------------------------------------"
   ],
   "execution_count": 11,
   "outputs": []
  },
  {
   "metadata": {
    "trusted": true,
    "pycharm": {
     "is_executing": false
    }
   },
   "cell_type": "code",
   "source": [
    "def lin_ols(x, a0, a1):\n",
    "    return a0 + a1*x;"
   ],
   "execution_count": 18,
   "outputs": []
  },
  {
   "metadata": {
    "trusted": true,
    "pycharm": {
     "is_executing": false
    }
   },
   "cell_type": "code",
   "source": [
    "# Новая LOO кросс-валидация\n",
    "def new_loo_cv(x, y, model_func):\n",
    "    import math\n",
    "    from scipy.optimize import curve_fit \n",
    "    import numpy as np\n",
    "    SE = 0\n",
    "    for i in range(len(x)):\n",
    "        test_x = x[i]\n",
    "        test_y = y[i]\n",
    "        x_new = np.delete(x, i)\n",
    "        y_new = np.delete(y, i)\n",
    "        a, _ = curve_fit(model_func, x_new, y_new)\n",
    "        exact_val = model_func(test_x, a[0], a[1])\n",
    "        SE+=(test_y - exact_val)**2\n",
    "    RMSE = math.sqrt(SE/len(x))\n",
    "    return RMSE"
   ],
   "execution_count": 19,
   "outputs": []
  },
  {
   "metadata": {
    "trusted": true,
    "pycharm": {
     "is_executing": false
    }
   },
   "cell_type": "code",
   "source": [
    "print(new_loo_cv(x, y, cube_func_ols))"
   ],
   "execution_count": 14,
   "outputs": [
    {
     "traceback": [
      "\u001b[1;31m---------------------------------------------------------------------------\u001b[0m",
      "\u001b[1;31mTypeError\u001b[0m                                 Traceback (most recent call last)",
      "\u001b[1;32m<ipython-input-14-63df5bef7a94>\u001b[0m in \u001b[0;36m<module>\u001b[1;34m\u001b[0m\n\u001b[1;32m----> 1\u001b[1;33m \u001b[0mprint\u001b[0m\u001b[1;33m(\u001b[0m\u001b[0mnew_loo_cv\u001b[0m\u001b[1;33m(\u001b[0m\u001b[0mx\u001b[0m\u001b[1;33m,\u001b[0m \u001b[0my\u001b[0m\u001b[1;33m,\u001b[0m \u001b[0mcube_func_ols\u001b[0m\u001b[1;33m)\u001b[0m\u001b[1;33m)\u001b[0m\u001b[1;33m\u001b[0m\u001b[1;33m\u001b[0m\u001b[0m\n\u001b[0m\u001b[0;32m      2\u001b[0m \u001b[1;33m\u001b[0m\u001b[0m\n",
      "\u001b[1;32m<ipython-input-13-2dec68660b25>\u001b[0m in \u001b[0;36mnew_loo_cv\u001b[1;34m(x, y, model_func)\u001b[0m\n\u001b[0;32m     11\u001b[0m         \u001b[0my_new\u001b[0m \u001b[1;33m=\u001b[0m \u001b[0mnp\u001b[0m\u001b[1;33m.\u001b[0m\u001b[0mdelete\u001b[0m\u001b[1;33m(\u001b[0m\u001b[0my\u001b[0m\u001b[1;33m,\u001b[0m \u001b[0mi\u001b[0m\u001b[1;33m)\u001b[0m\u001b[1;33m\u001b[0m\u001b[1;33m\u001b[0m\u001b[0m\n\u001b[0;32m     12\u001b[0m         \u001b[0ma\u001b[0m\u001b[1;33m,\u001b[0m \u001b[0m_\u001b[0m \u001b[1;33m=\u001b[0m \u001b[0mcurve_fit\u001b[0m\u001b[1;33m(\u001b[0m\u001b[0mmodel_func\u001b[0m\u001b[1;33m,\u001b[0m \u001b[0mx_new\u001b[0m\u001b[1;33m,\u001b[0m \u001b[0my_new\u001b[0m\u001b[1;33m)\u001b[0m\u001b[1;33m\u001b[0m\u001b[1;33m\u001b[0m\u001b[0m\n\u001b[1;32m---> 13\u001b[1;33m         \u001b[0mexact_val\u001b[0m \u001b[1;33m=\u001b[0m \u001b[0mmodel_func\u001b[0m\u001b[1;33m(\u001b[0m\u001b[0mtest_x\u001b[0m\u001b[1;33m,\u001b[0m \u001b[0ma\u001b[0m\u001b[1;33m[\u001b[0m\u001b[1;36m0\u001b[0m\u001b[1;33m]\u001b[0m\u001b[1;33m,\u001b[0m \u001b[0ma\u001b[0m\u001b[1;33m[\u001b[0m\u001b[1;36m1\u001b[0m\u001b[1;33m]\u001b[0m\u001b[1;33m)\u001b[0m\u001b[1;33m\u001b[0m\u001b[1;33m\u001b[0m\u001b[0m\n\u001b[0m\u001b[0;32m     14\u001b[0m         \u001b[0mSE\u001b[0m\u001b[1;33m+=\u001b[0m\u001b[1;33m(\u001b[0m\u001b[0mtest_y\u001b[0m \u001b[1;33m-\u001b[0m \u001b[0mexact_val\u001b[0m\u001b[1;33m)\u001b[0m\u001b[1;33m**\u001b[0m\u001b[1;36m2\u001b[0m\u001b[1;33m\u001b[0m\u001b[1;33m\u001b[0m\u001b[0m\n\u001b[0;32m     15\u001b[0m     \u001b[0mRMSE\u001b[0m \u001b[1;33m=\u001b[0m \u001b[0mmath\u001b[0m\u001b[1;33m.\u001b[0m\u001b[0msqrt\u001b[0m\u001b[1;33m(\u001b[0m\u001b[0mSE\u001b[0m\u001b[1;33m/\u001b[0m\u001b[0mlen\u001b[0m\u001b[1;33m(\u001b[0m\u001b[0mx\u001b[0m\u001b[1;33m)\u001b[0m\u001b[1;33m)\u001b[0m\u001b[1;33m\u001b[0m\u001b[1;33m\u001b[0m\u001b[0m\n",
      "\u001b[1;31mTypeError\u001b[0m: cube_func_ols() missing 2 required positional arguments: 'a2' and 'a3'"
     ],
     "ename": "TypeError",
     "evalue": "cube_func_ols() missing 2 required positional arguments: 'a2' and 'a3'",
     "output_type": "error"
    }
   ]
  },
  {
   "metadata": {
    "trusted": true,
    "pycharm": {
     "is_executing": false
    }
   },
   "cell_type": "code",
   "source": [
    "print(new_loo_cv(x, y, lin_ols))"
   ],
   "execution_count": null,
   "outputs": []
  },
  {
   "metadata": {
    "trusted": true,
    "pycharm": {
     "is_executing": false
    }
   },
   "cell_type": "code",
   "source": [
    "# Новая LOO кросс-валидация для LTS\n",
    "def new_loo_cv_lts(x, y, model_func, h0):\n",
    "    import math\n",
    "    from scipy.optimize import curve_fit \n",
    "    import numpy as np\n",
    "    SE = 0\n",
    "    for i in range(len(x)):\n",
    "        test_x = x[i]\n",
    "        test_y = y[i]\n",
    "        x_new = np.delete(x, i)\n",
    "        y_new = np.delete(y, i)\n",
    "        a = c_step(x_new, y_new, [0, 0, 0, 0], model_func, 1e-7, 500, h0)\n",
    "        exact_val = model_func(test_x, a)\n",
    "        SE+=(test_y - exact_val)**2\n",
    "    RMSE = math.sqrt(SE/len(x))\n",
    "    return (RMSE, a)"
   ],
   "execution_count": 20,
   "outputs": []
  },
  {
   "metadata": {
    "trusted": true,
    "pycharm": {
     "is_executing": false
    }
   },
   "cell_type": "code",
   "source": [
    "for h in range(20, 39):\n",
    "    print(h)\n",
    "    print(new_loo_cv_lts(x, y, cube_func, h))"
   ],
   "execution_count": 56,
   "outputs": [
    {
     "name": "stdout",
     "text": [
      "20\n",
      "(26.414176804191545, array([-2.87503935e-03,  4.78524498e+01, -3.47190380e+02,  7.65067994e+02]))\n21\n",
      "(4.552595645147088, array([  2.16257347, -23.60535235, 147.57905374, -86.50488231]))\n22\n",
      "(6.36935596231915, array([  2.08645524, -19.11059343, 103.87613776,   8.65502822]))\n23\n",
      "(17.21858228269374, array([ 2.03759631e+00,  1.73951546e-01, -7.08593593e+01,  3.58714474e+02]))\n24\n",
      "(5.269884423931099, array([  2.25113242, -24.39773813, 139.75527392, -69.41152936]))\n25\n",
      "(4.508060587916972, array([  2.0945472 , -19.54291173, 112.3111234 , -34.8013844 ]))\n26\n",
      "(7.989587327918832, array([  2.10958052, -11.74393519,  46.48043981,  94.39052309]))\n27\n",
      "(4.832310173243859, array([  2.39276521, -21.07093943, 109.47319851, -25.67413802]))\n28\n",
      "(7.685392719027284, array([  2.39830683, -19.11591397,  80.85493506,  56.79892257]))\n29\n",
      "(7.8766071424826745, array([  2.4793293 , -20.49348046,  81.78514845,  60.80956566]))\n30\n",
      "(4.73277271455638, array([  2.99310868, -35.86541535, 176.20836679, -92.91041236]))\n31\n",
      "(5.114104699000583, array([  2.74511318, -28.46034601, 134.57589702, -39.3719605 ]))\n32\n",
      "(4.61020455353936, array([   3.04320683,  -35.88777129,  182.49038283, -102.53565565]))\n33\n",
      "(10.28014737039211, array([  1.93358145,  -2.63618056, -15.64451997, 194.50606413]))\n34\n",
      "(5.560800587738713, array([  2.63902093, -23.46230382, 110.98383231,  -9.04907866]))\n35\n",
      "(4.864996400619154, array([  3.04333892, -34.27879932, 167.01222287, -76.79054997]))\n36\n",
      "(5.534418768213579, array([  2.8095464 , -22.29930282, 110.51642158, -10.17519605]))\n37\n",
      "(6.489580526431173, array([  3.10510441, -13.63912972,  57.44423446,  59.12673693]))\n38\n",
      "(7.605208702752281, array([  3.1652438 ,  -1.50676248,  -7.98999044, 140.96408035]))\n"
     ],
     "output_type": "stream"
    }
   ]
  },
  {
   "metadata": {
    "trusted": true,
    "pycharm": {
     "is_executing": false
    }
   },
   "cell_type": "code",
   "source": [
    "# Новая LOO кросс-валидация для LTS\n",
    "def new_loo_cv_robust(x, y, model_func):\n",
    "    #from IPython.core.debugger import set_trace\n",
    "    import math\n",
    "    from scipy.optimize import curve_fit \n",
    "    import numpy as np\n",
    "    from scipy.optimize import least_squares\n",
    "    SE = 0\n",
    "    residual_func = lambda a, x, y: model_func(x, a) - y\n",
    "    for i in range(len(x)):\n",
    "        test_x = x[i]\n",
    "        test_y = y[i]\n",
    "        x_new = np.delete(x, i)\n",
    "        y_new = np.delete(y, i)\n",
    "        #set_trace()\n",
    "        ak = least_squares(residual_func,  [  12.67122481,   57.87558868,   -8.33038016, -232.57309354], \n",
    "                           loss='huber', args=(x_new, y_new)).x\n",
    "\n",
    "        exact_val = model_func(test_x, ak)\n",
    "        SE+=(test_y - exact_val)**2\n",
    "    RMSE = math.sqrt(SE/len(x))\n",
    "    return (RMSE, ak)"
   ],
   "execution_count": 41,
   "outputs": []
  },
  {
   "metadata": {
    "trusted": true,
    "pycharm": {
     "is_executing": false
    }
   },
   "cell_type": "code",
   "source": [
    "print(new_loo_cv_robust(x, y, cube_func))"
   ],
   "execution_count": 43,
   "outputs": [
    {
     "name": "stdout",
     "text": [
      "(6.536163915308875, array([  12.42743866,   55.43049303,   -5.49440249, -219.91136077]))\n"
     ],
     "output_type": "stream"
    }
   ]
  },
  {
   "metadata": {
    "trusted": true,
    "pycharm": {
     "is_executing": false
    }
   },
   "cell_type": "code",
   "source": [
    "from scipy.optimize import least_squares\n",
    "x = omega_stability[\"Omega stability\"].values\n",
    "y = omega_stability[\"Survival time\"].values\n",
    "#residual_func = lambda a, x, y: cube_func(x, a) - y\n",
    "#theta = least_squares(residual_func, [13.2172348, 59.92121269, -14.74252034, -249.17161382], loss=\"huber\", args=(x, y))\n",
    "a_m = [  12.42743866,   55.43049303,   -5.49440249, -219.91136077] \n",
    "fig, ax = plt.subplots()\n",
    "ax.scatter(x, y)\n",
    "x_plot = np.linspace(-0.5, 0.5, num=1000)\n",
    "y_plot = a_m[0] + a_m[1]*x_plot + a_m[2]*x_plot**2 + a_m[3]*x_plot**3\n",
    "ax.plot(x_plot, y_plot)\n",
    "\n",
    "# cv 4.87\n",
    "a_m = [  12.67122481,   57.87558868,   -8.33038016, -232.57309354]\n",
    "x_plot = np.linspace(-0.5, 0.5, num=1000)\n",
    "y_plot = a_m[0] + a_m[1]*x_plot + a_m[2]*x_plot**2 + a_m[3]*x_plot**3\n",
    "ax.plot(x_plot, y_plot)\n",
    "# оранжевый - LTS"
   ],
   "execution_count": 44,
   "outputs": [
    {
     "data": {
      "text/plain": "[<matplotlib.lines.Line2D at 0x1a998ad2fc8>]"
     },
     "metadata": {},
     "output_type": "execute_result",
     "execution_count": 44
    },
    {
     "data": {
      "text/plain": "<Figure size 432x288 with 1 Axes>",
      "image/png": "[encoded data removed]"
     },
     "metadata": {
      "needs_background": "light"
     },
     "output_type": "display_data"
    }
   ]
  },
  {
   "metadata": {},
   "cell_type": "markdown",
   "source": [
    "M-оценка не дает минимального результата, т.к. LTS на примерно таких же коэффициентах выдаёт ещё большее значение Кросс-Валидации"
   ]
  },
  {
   "metadata": {
    "trusted": true,
    "pycharm": {
     "is_executing": false
    }
   },
   "cell_type": "code",
   "source": [
    "x_new = x + abs(np.min(x))"
   ],
   "execution_count": 48,
   "outputs": []
  },
  {
   "metadata": {
    "trusted": true,
    "pycharm": {
     "is_executing": false
    }
   },
   "cell_type": "code",
   "source": [
    "fig, ax = plt.subplots()\n",
    "x_plot = np.linspace(0, 1, num=1000)\n",
    "y_plot = weibull([0.5, 5], x_plot)\n",
    "ax.plot(x_plot, y_plot)"
   ],
   "execution_count": null,
   "outputs": []
  },
  {
   "metadata": {
    "trusted": true,
    "pycharm": {
     "is_executing": false
    }
   },
   "cell_type": "code",
   "source": [
    "# теперь подготовим исходные данные \n",
    "# выполним сортировку\n",
    "x, y = zip(*sorted(zip(x_new, y)))\n",
    "x = np.asarray(x)\n",
    "y = np.asarray(y)"
   ],
   "execution_count": 49,
   "outputs": []
  },
  {
   "metadata": {
    "trusted": true,
    "pycharm": {
     "is_executing": false
    }
   },
   "cell_type": "code",
   "source": [
    "# визуадизируем новые данные\n",
    "plt.scatter(x, y)\n"
   ],
   "execution_count": 50,
   "outputs": [
    {
     "data": {
      "text/plain": "<matplotlib.collections.PathCollection at 0x1a998be11c8>"
     },
     "metadata": {},
     "output_type": "execute_result",
     "execution_count": 50
    },
    {
     "data": {
      "text/plain": "<Figure size 432x288 with 1 Axes>",
      "image/png": "[encoded data removed]"
     },
     "metadata": {
      "needs_background": "light"
     },
     "output_type": "display_data"
    }
   ]
  },
  {
   "metadata": {
    "trusted": true,
    "pycharm": {
     "is_executing": false
    }
   },
   "cell_type": "code",
   "source": [
    "plt.plot(x, y)"
   ],
   "execution_count": null,
   "outputs": []
  },
  {
   "metadata": {
    "trusted": true,
    "pycharm": {
     "is_executing": false
    }
   },
   "cell_type": "code",
   "source": [
    "def weibull(a, x):\n",
    "    return 21.3*(1-np.exp(-(x/a[0])**a[1]))"
   ],
   "execution_count": 27,
   "outputs": []
  },
  {
   "metadata": {
    "trusted": true,
    "pycharm": {
     "is_executing": false
    }
   },
   "cell_type": "code",
   "source": [
    "# определим функцию отклонений\n",
    "def weibull_residual(a, x, y):\n",
    "    return 21.3*(1-np.exp(-(x/a[0])**a[1])) - y"
   ],
   "execution_count": 30,
   "outputs": []
  },
  {
   "metadata": {
    "trusted": true,
    "pycharm": {
     "is_executing": false
    }
   },
   "cell_type": "code",
   "source": [
    "res_robust = least_squares(weibull_residual, [1, 1], loss='huber', args=(x, y)).x"
   ],
   "execution_count": 51,
   "outputs": [
    {
     "name": "stderr",
     "text": [
      "C:\\ProgramData\\Anaconda3\\envs\\omega_stability\\lib\\site-packages\\ipykernel_launcher.py:3: RuntimeWarning: invalid value encountered in power\n  This is separate from the ipykernel package so we can avoid doing imports until\n"
     ],
     "output_type": "stream"
    }
   ]
  },
  {
   "metadata": {
    "trusted": true,
    "pycharm": {
     "is_executing": false
    }
   },
   "cell_type": "code",
   "source": [
    "res_robust"
   ],
   "execution_count": 52,
   "outputs": [
    {
     "data": {
      "text/plain": "array([0.41483944, 3.51312491])"
     },
     "metadata": {},
     "output_type": "execute_result",
     "execution_count": 52
    }
   ]
  },
  {
   "metadata": {
    "trusted": true,
    "pycharm": {
     "is_executing": false
    }
   },
   "cell_type": "code",
   "source": [
    "fig, ax = plt.subplots()\n",
    "x_plot = np.linspace(0, 1, num=1000)\n",
    "# линейная функция потерь\n",
    "y_plot = weibull([0.43821255, 2.67001618] , x_plot)\n",
    "ax.plot(x_plot, y_plot)\n",
    "# хьюбер\n",
    "\n",
    "y_plot = weibull(res_robust, x_plot)\n",
    "ax.plot(x_plot, y_plot)\n",
    "ax.scatter(x, y)"
   ],
   "execution_count": 1,
   "outputs": [
    {
     "traceback": [
      "\u001b[1;31m---------------------------------------------------------------------------\u001b[0m",
      "\u001b[1;31mNameError\u001b[0m                                 Traceback (most recent call last)",
      "\u001b[1;32m<ipython-input-1-4f3fb5fe3325>\u001b[0m in \u001b[0;36m<module>\u001b[1;34m\u001b[0m\n\u001b[1;32m----> 1\u001b[1;33m \u001b[0mfig\u001b[0m\u001b[1;33m,\u001b[0m \u001b[0max\u001b[0m \u001b[1;33m=\u001b[0m \u001b[0mplt\u001b[0m\u001b[1;33m.\u001b[0m\u001b[0msubplots\u001b[0m\u001b[1;33m(\u001b[0m\u001b[1;33m)\u001b[0m\u001b[1;33m\u001b[0m\u001b[1;33m\u001b[0m\u001b[0m\n\u001b[0m\u001b[0;32m      2\u001b[0m \u001b[0mx_plot\u001b[0m \u001b[1;33m=\u001b[0m \u001b[0mnp\u001b[0m\u001b[1;33m.\u001b[0m\u001b[0mlinspace\u001b[0m\u001b[1;33m(\u001b[0m\u001b[1;36m0\u001b[0m\u001b[1;33m,\u001b[0m \u001b[1;36m1\u001b[0m\u001b[1;33m,\u001b[0m \u001b[0mnum\u001b[0m\u001b[1;33m=\u001b[0m\u001b[1;36m1000\u001b[0m\u001b[1;33m)\u001b[0m\u001b[1;33m\u001b[0m\u001b[1;33m\u001b[0m\u001b[0m\n\u001b[0;32m      3\u001b[0m \u001b[1;31m# линейная функция потерь\u001b[0m\u001b[1;33m\u001b[0m\u001b[1;33m\u001b[0m\u001b[1;33m\u001b[0m\u001b[0m\n\u001b[0;32m      4\u001b[0m \u001b[0my_plot\u001b[0m \u001b[1;33m=\u001b[0m \u001b[0mweibull\u001b[0m\u001b[1;33m(\u001b[0m\u001b[1;33m[\u001b[0m\u001b[1;36m0.43821255\u001b[0m\u001b[1;33m,\u001b[0m \u001b[1;36m2.67001618\u001b[0m\u001b[1;33m]\u001b[0m \u001b[1;33m,\u001b[0m \u001b[0mx_plot\u001b[0m\u001b[1;33m)\u001b[0m\u001b[1;33m\u001b[0m\u001b[1;33m\u001b[0m\u001b[0m\n\u001b[0;32m      5\u001b[0m \u001b[0max\u001b[0m\u001b[1;33m.\u001b[0m\u001b[0mplot\u001b[0m\u001b[1;33m(\u001b[0m\u001b[0mx_plot\u001b[0m\u001b[1;33m,\u001b[0m \u001b[0my_plot\u001b[0m\u001b[1;33m)\u001b[0m\u001b[1;33m\u001b[0m\u001b[1;33m\u001b[0m\u001b[0m\n",
      "\u001b[1;31mNameError\u001b[0m: name 'plt' is not defined"
     ],
     "ename": "NameError",
     "evalue": "name 'plt' is not defined",
     "output_type": "error"
    }
   ]
  },
  {
   "metadata": {
    "trusted": true,
    "pycharm": {
     "is_executing": false
    }
   },
   "cell_type": "code",
   "source": [
    "def new_loo_cv_robust(x, y, model_func):\n",
    "    import math\n",
    "    import numpy as np\n",
    "    from scipy.optimize import least_squares\n",
    "    from IPython.core.debugger import set_trace\n",
    "    SE = 0\n",
    "    residual_func = lambda a, x, y: model_func(a, x) - y\n",
    "    for i in range(len(x)):\n",
    "        x_test = x[i]\n",
    "        y_test = y[i]\n",
    "        x_train = np.delete(x, i)\n",
    "        y_train = np.delete(y, i)\n",
    "        #set_trace()\n",
    "        an = least_squares(residual_func, np.ones(2), loss='huber', args=(x_train, y_train)).x\n",
    "        exact_val = model_func(an, x_test)\n",
    "        SE+=(y_test - exact_val)**2\n",
    "    RMSE = math.sqrt(SE/len(x))\n",
    "    return (RMSE, an)"
   ],
   "execution_count": 45,
   "outputs": []
  },
  {
   "metadata": {
    "trusted": true,
    "pycharm": {
     "is_executing": false
    }
   },
   "cell_type": "code",
   "source": "new_loo_cv_robust(x, y, weibull)",
   "execution_count": 55,
   "outputs": [
    {
     "name": "stderr",
     "text": [
      "C:\\ProgramData\\Anaconda3\\envs\\omega_stability\\lib\\site-packages\\ipykernel_launcher.py:2: RuntimeWarning: invalid value encountered in power\n  \n"
     ],
     "output_type": "stream"
    },
    {
     "data": {
      "text/plain": "(3.8715476773981035, array([0.41483955, 3.51312247]))"
     },
     "metadata": {},
     "output_type": "execute_result",
     "execution_count": 55
    }
   ]
  },
  {
   "metadata": {
    "trusted": true,
    "pycharm": {
     "is_executing": false
    }
   },
   "cell_type": "code",
   "source": "plt.scatter(x, y)\nx_plot = x\ny_plot = weibull([0.41788069, 3.45097678], x_plot)\nplt.plot(x_plot, y_plot)",
   "execution_count": null,
   "outputs": []
  }
 ],
 "metadata": {
  "kernelspec": {
   "display_name": "Python 3",
   "language": "python",
   "name": "python3"
  },
  "language_info": {
   "codemirror_mode": {
    "name": "ipython",
    "version": 3
   },
   "file_extension": ".py",
   "mimetype": "text/x-python",
   "name": "python",
   "nbconvert_exporter": "python",
   "pygments_lexer": "ipython3",
   "version": "3.7.4"
  },
  "pycharm": {
   "stem_cell": {
    "cell_type": "raw",
    "source": [],
    "metadata": {
     "collapsed": false
    }
   }
  }
 },
 "nbformat": 4,
 "nbformat_minor": 1
}